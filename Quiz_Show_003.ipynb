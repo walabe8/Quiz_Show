{
  "nbformat": 4,
  "nbformat_minor": 0,
  "metadata": {
    "colab": {
      "provenance": [],
      "authorship_tag": "ABX9TyOuZFS4ZN4cA0E0wuConqfH",
      "include_colab_link": true
    },
    "kernelspec": {
      "name": "python3",
      "display_name": "Python 3"
    },
    "language_info": {
      "name": "python"
    }
  },
  "cells": [
    {
      "cell_type": "markdown",
      "metadata": {
        "id": "view-in-github",
        "colab_type": "text"
      },
      "source": [
        "<a href=\"https://colab.research.google.com/github/walabe8/Quiz_Show/blob/main/Quiz_Show_003.ipynb\" target=\"_parent\"><img src=\"https://colab.research.google.com/assets/colab-badge.svg\" alt=\"Open In Colab\"/></a>"
      ]
    },
    {
      "cell_type": "code",
      "execution_count": 35,
      "metadata": {
        "id": "gH-_QohXDhaR",
        "colab": {
          "base_uri": "https://localhost:8080/",
          "height": 627
        },
        "outputId": "a9264931-7e0e-4dc0-8c21-c149d240d050"
      },
      "outputs": [
        {
          "output_type": "stream",
          "name": "stdout",
          "text": [
            "\n",
            "\n",
            "   ___     _   _             _____       _____                __  __  U _____ u  _\n",
            "  / \" \\ U |\"|u| |   ___     |\"_  /u     |_ \" _|     ___     U|' \\/ '|u\\| ___\"|/U|\"|u\n",
            " | |\"| | \\| |\\| |  |_\"_|    U / //        | |      |_\"_|    \\| |\\/| |/ |  _|\"  \\| |/\n",
            "/| |_| |\\ | |_| |   | |     \\/ /_        /| |\\      | |      | |  | |  | |___   |_|\n",
            "U \\__\\_\\u<<\\___/  U/| |\\u   /____|      u |_|U    U/| |\\u    |_|  |_|  |_____|  (_)\n",
            "   \\\\// (__) )(.-,_|___|_,-._//<<,-     _// \\\\_.-,_|___|_,-.<<,-,,-.   <<   >>  |||_\n",
            "  (_(__)    (__)\\_)-' '-(_/(__) (_/    (__) (__)\\_)-' '-(_/  (./  \\.) (__) (__)(__)_)\n",
            "\n",
            "\n",
            "Welcome to Quiz Time! You will answer a few True or False questions. Please ONLY enter the letter T or F when it's your turn to answer. Have fun!\n",
            "\n",
            "Q1. There are seven planets in the solar system\n"
          ]
        },
        {
          "output_type": "error",
          "ename": "KeyboardInterrupt",
          "evalue": "Interrupted by user",
          "traceback": [
            "\u001b[0;31m---------------------------------------------------------------------------\u001b[0m",
            "\u001b[0;31mKeyboardInterrupt\u001b[0m                         Traceback (most recent call last)",
            "\u001b[0;32m<ipython-input-35-6d6b306ad21b>\u001b[0m in \u001b[0;36m<cell line: 23>\u001b[0;34m()\u001b[0m\n\u001b[1;32m     23\u001b[0m \u001b[0;32mfor\u001b[0m \u001b[0mi\u001b[0m \u001b[0;32min\u001b[0m \u001b[0mquestions\u001b[0m\u001b[0;34m:\u001b[0m\u001b[0;34m\u001b[0m\u001b[0;34m\u001b[0m\u001b[0m\n\u001b[1;32m     24\u001b[0m   \u001b[0mprint\u001b[0m\u001b[0;34m(\u001b[0m\u001b[0mi\u001b[0m\u001b[0;34m)\u001b[0m\u001b[0;34m\u001b[0m\u001b[0;34m\u001b[0m\u001b[0m\n\u001b[0;32m---> 25\u001b[0;31m   \u001b[0muserInput\u001b[0m \u001b[0;34m=\u001b[0m \u001b[0minput\u001b[0m\u001b[0;34m(\u001b[0m\u001b[0;34m\"Please enter 'T' for true or 'F' for false: \"\u001b[0m\u001b[0;34m)\u001b[0m\u001b[0;34m\u001b[0m\u001b[0;34m\u001b[0m\u001b[0m\n\u001b[0m\u001b[1;32m     26\u001b[0m   \u001b[0mprint\u001b[0m\u001b[0;34m(\u001b[0m\u001b[0muserInput\u001b[0m\u001b[0;34m)\u001b[0m\u001b[0;34m\u001b[0m\u001b[0;34m\u001b[0m\u001b[0m\n\u001b[1;32m     27\u001b[0m   \u001b[0mprint\u001b[0m\u001b[0;34m(\u001b[0m\u001b[0;34m)\u001b[0m\u001b[0;34m\u001b[0m\u001b[0;34m\u001b[0m\u001b[0m\n",
            "\u001b[0;32m/usr/local/lib/python3.10/dist-packages/ipykernel/kernelbase.py\u001b[0m in \u001b[0;36mraw_input\u001b[0;34m(self, prompt)\u001b[0m\n\u001b[1;32m    849\u001b[0m                 \u001b[0;34m\"raw_input was called, but this frontend does not support input requests.\"\u001b[0m\u001b[0;34m\u001b[0m\u001b[0;34m\u001b[0m\u001b[0m\n\u001b[1;32m    850\u001b[0m             )\n\u001b[0;32m--> 851\u001b[0;31m         return self._input_request(str(prompt),\n\u001b[0m\u001b[1;32m    852\u001b[0m             \u001b[0mself\u001b[0m\u001b[0;34m.\u001b[0m\u001b[0m_parent_ident\u001b[0m\u001b[0;34m,\u001b[0m\u001b[0;34m\u001b[0m\u001b[0;34m\u001b[0m\u001b[0m\n\u001b[1;32m    853\u001b[0m             \u001b[0mself\u001b[0m\u001b[0;34m.\u001b[0m\u001b[0m_parent_header\u001b[0m\u001b[0;34m,\u001b[0m\u001b[0;34m\u001b[0m\u001b[0;34m\u001b[0m\u001b[0m\n",
            "\u001b[0;32m/usr/local/lib/python3.10/dist-packages/ipykernel/kernelbase.py\u001b[0m in \u001b[0;36m_input_request\u001b[0;34m(self, prompt, ident, parent, password)\u001b[0m\n\u001b[1;32m    893\u001b[0m             \u001b[0;32mexcept\u001b[0m \u001b[0mKeyboardInterrupt\u001b[0m\u001b[0;34m:\u001b[0m\u001b[0;34m\u001b[0m\u001b[0;34m\u001b[0m\u001b[0m\n\u001b[1;32m    894\u001b[0m                 \u001b[0;31m# re-raise KeyboardInterrupt, to truncate traceback\u001b[0m\u001b[0;34m\u001b[0m\u001b[0;34m\u001b[0m\u001b[0m\n\u001b[0;32m--> 895\u001b[0;31m                 \u001b[0;32mraise\u001b[0m \u001b[0mKeyboardInterrupt\u001b[0m\u001b[0;34m(\u001b[0m\u001b[0;34m\"Interrupted by user\"\u001b[0m\u001b[0;34m)\u001b[0m \u001b[0;32mfrom\u001b[0m \u001b[0;32mNone\u001b[0m\u001b[0;34m\u001b[0m\u001b[0;34m\u001b[0m\u001b[0m\n\u001b[0m\u001b[1;32m    896\u001b[0m             \u001b[0;32mexcept\u001b[0m \u001b[0mException\u001b[0m \u001b[0;32mas\u001b[0m \u001b[0me\u001b[0m\u001b[0;34m:\u001b[0m\u001b[0;34m\u001b[0m\u001b[0;34m\u001b[0m\u001b[0m\n\u001b[1;32m    897\u001b[0m                 \u001b[0mself\u001b[0m\u001b[0;34m.\u001b[0m\u001b[0mlog\u001b[0m\u001b[0;34m.\u001b[0m\u001b[0mwarning\u001b[0m\u001b[0;34m(\u001b[0m\u001b[0;34m\"Invalid Message:\"\u001b[0m\u001b[0;34m,\u001b[0m \u001b[0mexc_info\u001b[0m\u001b[0;34m=\u001b[0m\u001b[0;32mTrue\u001b[0m\u001b[0;34m)\u001b[0m\u001b[0;34m\u001b[0m\u001b[0;34m\u001b[0m\u001b[0m\n",
            "\u001b[0;31mKeyboardInterrupt\u001b[0m: Interrupted by user"
          ]
        }
      ],
      "source": [
        "#Intro\n",
        "print(r\"\"\"\n",
        "\n",
        "   ___     _   _             _____       _____                __  __  U _____ u  _\n",
        "  / \" \\ U |\"|u| |   ___     |\"_  /u     |_ \" _|     ___     U|' \\/ '|u\\| ___\"|/U|\"|u\n",
        " | |\"| | \\| |\\| |  |_\"_|    U / //        | |      |_\"_|    \\| |\\/| |/ |  _|\"  \\| |/\n",
        "/| |_| |\\ | |_| |   | |     \\/ /_        /| |\\      | |      | |  | |  | |___   |_|\n",
        "U \\__\\_\\u<<\\___/  U/| |\\u   /____|      u |_|U    U/| |\\u    |_|  |_|  |_____|  (_)\n",
        "   \\\\// (__) )(.-,_|___|_,-._//<<,-     _// \\\\_.-,_|___|_,-.<<,-,,-.   <<   >>  |||_\n",
        "  (_(__)    (__)\\_)-' '-(_/(__) (_/    (__) (__)\\_)-' '-(_/  (./  \\.) (__) (__)(__)_)\n",
        "\n",
        "\"\"\")\n",
        "print(\"Welcome to Quiz Time! You will answer a few True or False questions. Please ONLY enter the letter T or F when it's your turn to answer. Have fun!\")\n",
        "print()\n",
        "\n",
        "# Variables\n",
        "questions = (\"Q1. There are seven planets in the solar system\", \"Q2. Deleware was the first state\", \"Q3. The Walt Disney Company was founded in 1910\")\n",
        "numberOfQuestions = len(questions)\n",
        "answers = ('T', 'T', 'F')\n",
        "count = 0\n",
        "\n",
        "# Prompt questions in a for loop + count the answers\n",
        "for i in questions:\n",
        "  print(i)\n",
        "  userInput = input(\"Please enter 'T' for true or 'F' for false: \")\n",
        "  print(userInput)\n",
        "  print()\n",
        "\n",
        "# Conditional Logic. If user has correct answer add to count, else subtract from the count\n",
        "  for i in answers:\n",
        "    if(userInput == \"T\"):\n",
        "      count += 1\n",
        "    elif(userInput == \"F\"):\n",
        "      count -= 1\n",
        "    else:\n",
        "      print(\"Invalid input. Please enter 'T' or 'F'.\")\n",
        "\n",
        "# Final Result\n",
        "print()\n",
        "print(f\"You got {abs(count)} out of {numberOfQuestions} correct!\")\n",
        "print(\"Thanks for playing!\")\n",
        "\n",
        "#  * For each question, the user must enter `T` for True, or `F` for False. ** Use a loop** to enforce input validation, and re-prompt the user if they enter any other values.\n",
        "# * Keep track of how many questions the user has gotten right\n",
        "# * Finally, display the number of questions they got right"
      ]
    }
  ]
}