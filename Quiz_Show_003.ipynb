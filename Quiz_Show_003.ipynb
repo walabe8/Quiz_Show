{
  "nbformat": 4,
  "nbformat_minor": 0,
  "metadata": {
    "colab": {
      "provenance": [],
      "authorship_tag": "ABX9TyNMqSuLTRXhfD3Lz+zJxLjm",
      "include_colab_link": true
    },
    "kernelspec": {
      "name": "python3",
      "display_name": "Python 3"
    },
    "language_info": {
      "name": "python"
    }
  },
  "cells": [
    {
      "cell_type": "markdown",
      "metadata": {
        "id": "view-in-github",
        "colab_type": "text"
      },
      "source": [
        "<a href=\"https://colab.research.google.com/github/walabe8/Quiz_Show/blob/main/Quiz_Show_003.ipynb\" target=\"_parent\"><img src=\"https://colab.research.google.com/assets/colab-badge.svg\" alt=\"Open In Colab\"/></a>"
      ]
    },
    {
      "cell_type": "code",
      "execution_count": 3,
      "metadata": {
        "id": "gH-_QohXDhaR",
        "colab": {
          "base_uri": "https://localhost:8080/"
        },
        "outputId": "ad9f5f75-d537-4ff9-d7d7-ab296830ba02"
      },
      "outputs": [
        {
          "output_type": "stream",
          "name": "stdout",
          "text": [
            "\n",
            "\n",
            "   ___     _   _             _____       _____                __  __  U _____ u  _\n",
            "  / \" \\ U |\"|u| |   ___     |\"_  /u     |_ \" _|     ___     U|' \\/ '|u\\| ___\"|/U|\"|u\n",
            " | |\"| | \\| |\\| |  |_\"_|    U / //        | |      |_\"_|    \\| |\\/| |/ |  _|\"  \\| |/\n",
            "/| |_| |\\ | |_| |   | |     \\/ /_        /| |\\      | |      | |  | |  | |___   |_|\n",
            "U \\__\\_\\u<<\\___/  U/| |\\u   /____|      u |_|U    U/| |\\u    |_|  |_|  |_____|  (_)\n",
            "   \\\\// (__) )(.-,_|___|_,-._//<<,-     _// \\\\_.-,_|___|_,-.<<,-,,-.   <<   >>  |||_\n",
            "  (_(__)    (__)\\_)-' '-(_/(__) (_/    (__) (__)\\_)-' '-(_/  (./  \\.) (__) (__)(__)_)\n",
            "\n",
            "\n",
            "Welcome to Quiz Time! You will answer a few True or False questions. Please ONLY enter the letter T or F when it's your turn to answer. Have fun!\n",
            "\n",
            "0\n",
            "Please enter 'T' for true or 'F' for false: S\n",
            "Invalid input. Please enter 'T' or 'F'.\n",
            "1\n",
            "Please enter 'T' for true or 'F' for false: T\n",
            "2\n",
            "Please enter 'T' for true or 'F' for false: F\n",
            "\n",
            "You got 2 out of 3 correct!\n",
            "Thanks for playing!\n"
          ]
        }
      ],
      "source": [
        "#Intro\n",
        "print(r\"\"\"\n",
        "\n",
        "   ___     _   _             _____       _____                __  __  U _____ u  _\n",
        "  / \" \\ U |\"|u| |   ___     |\"_  /u     |_ \" _|     ___     U|' \\/ '|u\\| ___\"|/U|\"|u\n",
        " | |\"| | \\| |\\| |  |_\"_|    U / //        | |      |_\"_|    \\| |\\/| |/ |  _|\"  \\| |/\n",
        "/| |_| |\\ | |_| |   | |     \\/ /_        /| |\\      | |      | |  | |  | |___   |_|\n",
        "U \\__\\_\\u<<\\___/  U/| |\\u   /____|      u |_|U    U/| |\\u    |_|  |_|  |_____|  (_)\n",
        "   \\\\// (__) )(.-,_|___|_,-._//<<,-     _// \\\\_.-,_|___|_,-.<<,-,,-.   <<   >>  |||_\n",
        "  (_(__)    (__)\\_)-' '-(_/(__) (_/    (__) (__)\\_)-' '-(_/  (./  \\.) (__) (__)(__)_)\n",
        "\n",
        "\"\"\")\n",
        "print(\"Welcome to Quiz Time! You will answer a few True or False questions. Please ONLY enter the letter T or F when it's your turn to answer. Have fun!\")\n",
        "print()\n",
        "\n",
        "# Variables\n",
        "questions = (\"Q1. There are seven planets in the solar system\", \"Q2. Deleware was the first state\", \"Q3. The Walt Disney Company was founded in 1910\")\n",
        "numberOfQuestions = len(questions)\n",
        "answers = ('T', 'T', 'F')\n",
        "count = 0\n",
        "\n",
        "# Conditional logic for loop validating userInput to answers adding to a counter\n",
        "for i in range(len(questions)):\n",
        "  print(i)\n",
        "  userInput = input(\"Please enter 'T' for true or 'F' for false: \")\n",
        "\n",
        "  if(userInput == answers[i]):\n",
        "    count += 1;\n",
        "  elif(userInput != answers[i]):\n",
        "    print(\"Invalid input. Please enter 'T' or 'F'.\")\n",
        "\n",
        "# Final Result\n",
        "print()\n",
        "print(f\"You got {abs(count)} out of {numberOfQuestions} correct!\")\n",
        "print(\"Thanks for playing!\")"
      ]
    }
  ]
}